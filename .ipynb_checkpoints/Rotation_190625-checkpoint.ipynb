{
 "cells": [
  {
   "cell_type": "code",
   "execution_count": null,
   "metadata": {},
   "outputs": [],
   "source": [
    "#スクリプト部分の表示制御\n",
    "#https://qiita.com/simonritchie/items/d7dccb798f0b9c8b1ec5\n",
    "#の記事を用いて作成しました．大変有り難うございます．\n",
    "\n",
    "from IPython.display import HTML\n",
    "\n",
    "HTML(\"\"\"\n",
    "<button id=\"code-show-switch-btn\">スクリプトを表示する</button>\n",
    "\n",
    "<script>\n",
    "var code_show = true;\n",
    "$(\"div.input\").hide();\n",
    "\n",
    "function switch_display_setting() {\n",
    "    var switch_btn = $(\"#code-show-switch-btn\");\n",
    "    if (code_show) {\n",
    "        $(\"div.input\").hide();\n",
    "        code_show = false;\n",
    "        switch_btn.text(\"スクリプトを表示する\");\n",
    "    }else{\n",
    "        $(\"div.input\").show();\n",
    "        code_show = true;\n",
    "        switch_btn.text(\"スクリプトを非表示にする\");\n",
    "    }\n",
    "}\n",
    "\n",
    "$(\"#code-show-switch-btn\").click(switch_display_setting);\n",
    "</script>\n",
    "\"\"\")"
   ]
  },
  {
   "cell_type": "markdown",
   "metadata": {},
   "source": [
    "##  ３次元回転表示のためのプログラム\n",
    "\n",
    "任意に与えた空間ベクトルが，3次元回転行列によって変換される様子をインタラクティブに表示するプログラムです．\n",
    "\n",
    "実行すると，$axis$を選択するボックスと$theta,x,y,z$に値を入れるボックスがプログラム部分の直後に現れるので，それぞれの値を指定して下さい．パラメータ$axis$は回転軸を指定するために用います．$xaxis$は「x軸」，$yaxis$は「y軸」，$zaxis$は「z軸」をそれぞれ表します．$theta$は回転角を指定します．度数法で指定して下さい．$x,y,z$は，以下のベクトル$\\mathbb{x}$の成分を指定します．\n",
    "\n",
    "\\begin{align*}\n",
    "\\mathbb{x}\n",
    "=\n",
    "\\begin{bmatrix}\n",
    "x\\\\\n",
    "y\\\\\n",
    "z\n",
    "\\end{bmatrix}\n",
    "\\end{align*}\n",
    "\n",
    "パラメータを変更すると即座に回転行列$R$とベクトル$\\mathbb{x}$の成分が変更されます．連動して，変換前のベクトル$\\mathbb{x}$と変換後のベクトル $R\\mathbb{x}$が描画されます．"
   ]
  },
  {
   "cell_type": "code",
   "execution_count": 1,
   "metadata": {},
   "outputs": [],
   "source": [
    "from sympy import *\n",
    "init_printing()\n",
    "\n",
    "from ipywidgets import interact\n",
    "# インタラクティブ画面が出ない場合　：　「jupyter nbextension enable --py widgetsnbextension」をターミナル等で一度実行．\n",
    "# Try jupyter[https://jupyter.org/try]上では問題なく動作．\n",
    "\n",
    "from IPython.display import Math\n",
    "\n",
    "%matplotlib inline\n",
    "from mpl_toolkits.mplot3d import Axes3D\n",
    "import matplotlib.pyplot as plt"
   ]
  },
  {
   "cell_type": "code",
   "execution_count": 2,
   "metadata": {},
   "outputs": [
    {
     "data": {
      "application/vnd.jupyter.widget-view+json": {
       "model_id": "fd5225e915e14289b6b1a5b320f42aa0",
       "version_major": 2,
       "version_minor": 0
      },
      "text/plain": [
       "interactive(children=(Dropdown(description='axis', options=('xaxis', 'yaxis', 'zaxis'), value='xaxis'), Text(v…"
      ]
     },
     "metadata": {},
     "output_type": "display_data"
    }
   ],
   "source": [
    "# ３次元回転をインタラクティブに表示します．\n",
    "\n",
    "@interact(axis=['xaxis', 'yaxis', 'zaxis'], theta='90', x='0', y='1', z='0')\n",
    "def f(axis, theta, x, y, z):\n",
    "    \n",
    "    #度数法-弧度法の変換\n",
    "    theta = (pi/180)*float(theta)\n",
    "    display(Math(r'\\theta = %s \\ \\ rad' % (latex(theta))))\n",
    "    \n",
    "    if axis == 'xaxis':\n",
    "        R = Matrix([[1,0,0],[0,cos(theta),  -sin(theta)], [0,sin(theta), cos(theta)]])\n",
    "    elif axis == 'yaxis':\n",
    "        R = Matrix([[cos(theta),0,  sin(theta)],[0,1,0], [-sin(theta),0, cos(theta)]])\n",
    "    else:\n",
    "        R = Matrix([[cos(theta), -sin(theta),0], [sin(theta),cos(theta),0],[0,0,1]])\n",
    "        \n",
    "    vec = Matrix([float(x), float(y), float(z)])\n",
    "    \n",
    "    # 3次正方行列と3次元ベクトルの表示\n",
    "    display(Math(r'R = %s, \\quad \\mathbb{x} = %s, \\quad A\\mathbb{x} = %s' % (latex(R),latex(vec),latex(R*vec))))\n",
    "    \n",
    "    fig = plt.figure()\n",
    "    ax = Axes3D(fig)\n",
    "\n",
    "    # ベクトルの描画\n",
    "    ax.quiver(0, 0, 0, vec[0], vec[1], vec[2], color='blue')\n",
    "    ax.quiver(0, 0, 0, (R*vec)[0], (R*vec)[1], (R*vec)[2], color='red')\n",
    "    \n",
    "    # ベクトルラベルの設定\n",
    "    ax.text( vec[0], vec[1], vec[2],'x',fontsize=17, color='blue')\n",
    "    ax.text((R*vec)[0], (R*vec)[1], (R*vec)[2],'Rx',fontsize=17, color='red')\n",
    "    \n",
    "    # 描画領域指定\n",
    "    maxx = float(max([0, vec[0], (R*vec)[0]]))\n",
    "    maxy = float(max([0, vec[1], (R*vec)[1]]))\n",
    "    maxz = float(max([0, vec[2], (R*vec)[2]]))\n",
    "    minx = float(min([0, vec[0], (R*vec)[0]]))\n",
    "    miny = float(min([0,vec[1], (R*vec)[1]]))\n",
    "    minz = float(min([0, vec[2], (R*vec)[2]]))\n",
    "    \n",
    "    ax.set_xlim([minx-0.1, maxx+0.1])\n",
    "    ax.set_ylim([miny-0.1, maxy+0.1])\n",
    "    ax.set_zlim([minz-0.1, maxz+0.1])\n",
    "    \n",
    "    # 軸ラベルの設定\n",
    "    ax.set_xlabel(\"x\", size = 14, weight = \"light\")\n",
    "    ax.set_ylabel(\"y\", size = 14, weight = \"light\")\n",
    "    ax.set_zlabel(\"z\", size = 14, weight = \"light\")\n",
    "        \n",
    "    plt.show()"
   ]
  },
  {
   "cell_type": "code",
   "execution_count": null,
   "metadata": {},
   "outputs": [],
   "source": []
  }
 ],
 "metadata": {
  "kernelspec": {
   "display_name": "Python 3",
   "language": "python",
   "name": "python3"
  },
  "language_info": {
   "codemirror_mode": {
    "name": "ipython",
    "version": 3
   },
   "file_extension": ".py",
   "mimetype": "text/x-python",
   "name": "python",
   "nbconvert_exporter": "python",
   "pygments_lexer": "ipython3",
   "version": "3.7.4"
  }
 },
 "nbformat": 4,
 "nbformat_minor": 2
}
