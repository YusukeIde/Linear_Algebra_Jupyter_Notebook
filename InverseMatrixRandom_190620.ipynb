{
 "cells": [
  {
   "cell_type": "markdown",
   "metadata": {},
   "source": [
    "##  掃き出し法のための問題生成プログラム\n",
    "\n",
    "整数係数の$3\\times ３$行列に対して，その逆行列をインタラクティブに表示するプログラムです．\n",
    "\n",
    "実行すると，「cmax」に値を入れるボックスがプログラム部分の直後に現れるので，正の整数値で指定して下さい．cmaxの値に従って，以下の行列$A$の成分を-cmax$\\sim$cmaxの一様乱数(整数値)で指定します．\n",
    "\n",
    "\\begin{align*}\n",
    "A=\n",
    "\\begin{bmatrix}\n",
    "a11 & a12 & a13\\\\\n",
    "a21 & a22 & a23\\\\\n",
    "a31 & a32 & a33\\\\\n",
    "\\end{bmatrix}\n",
    "\\end{align*}\n",
    "\n",
    "また，typeは「regular」，「irregular」の2種類から選択可能です．それぞれ，「正則」，「非正則」を表します．「正則」を選択した際には，その逆行列の各成分が整数値となるようにパラメータ選択されます．\n",
    "\n",
    "パラメータを変更すると即座に行列$A$の成分が変更されます．連動して，行列$A$の正則性が判定され，正則な場合は逆行列$A^{-1}$が表示されます．"
   ]
  },
  {
   "cell_type": "code",
   "execution_count": 1,
   "metadata": {
    "scrolled": true
   },
   "outputs": [],
   "source": [
    "from sympy import *\n",
    "init_printing()\n",
    "\n",
    "from ipywidgets import interact\n",
    "# インタラクティブ画面が出ない場合　：　「jupyter nbextension enable --py widgetsnbextension」をターミナル等で一度実行．\n",
    "# Try jupyter[https://jupyter.org/try]上では問題なく動作．\n",
    "\n",
    "from IPython.display import Math\n",
    "\n",
    "# 乱数を使用する．実行するたびに違う乱数系列とするために実行時のシステム時刻をseedに設定．\n",
    "import random\n",
    "from datetime import datetime\n",
    "random.seed(datetime.now())"
   ]
  },
  {
   "cell_type": "code",
   "execution_count": 2,
   "metadata": {},
   "outputs": [
    {
     "data": {
      "application/vnd.jupyter.widget-view+json": {
       "model_id": "40f808f3b6804044962d4bc1a4848124",
       "version_major": 2,
       "version_minor": 0
      },
      "text/plain": [
       "interactive(children=(Text(value='4', description='cmax'), Dropdown(description='type', options=('regular', 'i…"
      ]
     },
     "metadata": {},
     "output_type": "display_data"
    }
   ],
   "source": [
    "# 整数係数で，3変数・３式の連立一次方程式をインタラクティブに解きます．\n",
    "\n",
    "@interact(cmax='4', type=['regular', 'irregular'])\n",
    "def f(cmax, type):\n",
    "    \n",
    "    # 入力値cmaxを整数型に変換\n",
    "    cmax = int(cmax)\n",
    "    \n",
    "    while 1:\n",
    "        \n",
    "        # 行列Aの各要素に乱数を設定\n",
    "        A = Matrix([[random.randint(-cmax, cmax), random.randint(-cmax, cmax), random.randint(-cmax, cmax)], \\\n",
    "                [random.randint(-cmax, cmax), random.randint(-cmax, cmax), random.randint(-cmax, cmax)], \\\n",
    "                [random.randint(-cmax, cmax), random.randint(-cmax, cmax), random.randint(-cmax, cmax)]])\n",
    "        \n",
    "        if A.det()==0:\n",
    "            if type=='irregular':\n",
    "                display(Math(r'A = %s'  % latex(A)))\n",
    "                break\n",
    "                \n",
    "            else:\n",
    "                continue\n",
    "        \n",
    "        else:\n",
    "            Ainv = A.inv()\n",
    "        \n",
    "            if (Ainv[0,0].is_Integer==1) and (Ainv[0,1].is_Integer==1) and (Ainv[0,2].is_Integer==1 and \\\n",
    "                Ainv[1,0].is_Integer==1) and (Ainv[1,1].is_Integer==1) and (Ainv[1,2].is_Integer==1 and \\\n",
    "                Ainv[2,0].is_Integer==1) and (Ainv[2,1].is_Integer==1) and (Ainv[2,2].is_Integer==1):\n",
    "                \n",
    "                display(Math(r'A = %s, \\quad A^{-1} = %s'  % (latex(A),latex(Ainv))))\n",
    "                break"
   ]
  },
  {
   "cell_type": "code",
   "execution_count": null,
   "metadata": {},
   "outputs": [],
   "source": []
  }
 ],
 "metadata": {
  "anaconda-cloud": {},
  "kernelspec": {
   "display_name": "Python 3",
   "language": "python",
   "name": "python3"
  },
  "language_info": {
   "codemirror_mode": {
    "name": "ipython",
    "version": 3
   },
   "file_extension": ".py",
   "mimetype": "text/x-python",
   "name": "python",
   "nbconvert_exporter": "python",
   "pygments_lexer": "ipython3",
   "version": "3.7.3"
  },
  "latex_envs": {
   "bibliofile": "biblio.bib",
   "cite_by": "apalike",
   "current_citInitial": 1,
   "eqLabelWithNumbers": true,
   "eqNumInitial": 0
  }
 },
 "nbformat": 4,
 "nbformat_minor": 2
}
