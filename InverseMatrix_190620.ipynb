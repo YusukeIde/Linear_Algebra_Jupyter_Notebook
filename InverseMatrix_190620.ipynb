{
 "cells": [
  {
   "cell_type": "markdown",
   "metadata": {},
   "source": [
    "##  掃き出し法のための問題生成プログラム\n",
    "\n",
    "整数係数の$3\\times ３$行列に対して，その逆行列をインタラクティブに表示するプログラムです．\n",
    "\n",
    "実行すると，$a11,a12,a13,a21,a22,a23,a31,a32,a33$に値を入れるボックスがプログラム部分の直後に現れるので，それぞれの値を整数値で指定して下さい．これらのパラメータ値は，以下の行列$A$の成分を指定します．\n",
    "\n",
    "\\begin{align*}\n",
    "A=\n",
    "\\begin{bmatrix}\n",
    "a11 & a12 & a13\\\\\n",
    "a21 & a22 & a23\\\\\n",
    "a31 & a32 & a33\\\\\n",
    "\\end{bmatrix}\n",
    "\\end{align*}\n",
    "\n",
    "パラメータを変更すると即座に行列$A$の成分が変更されます．連動して，行列$A$の正則性が判定され，正則な場合は逆行列$A^{-1}$が表示されます．"
   ]
  },
  {
   "cell_type": "code",
   "execution_count": 1,
   "metadata": {
    "scrolled": true
   },
   "outputs": [],
   "source": [
    "from sympy import *\n",
    "init_printing()\n",
    "\n",
    "from ipywidgets import interact\n",
    "# インタラクティブ画面が出ない場合　：　「jupyter nbextension enable --py widgetsnbextension」をターミナル等で一度実行．\n",
    "# Try jupyter[https://jupyter.org/try]上では問題なく動作．\n",
    "\n",
    "from IPython.display import Math"
   ]
  },
  {
   "cell_type": "code",
   "execution_count": 2,
   "metadata": {},
   "outputs": [
    {
     "data": {
      "application/vnd.jupyter.widget-view+json": {
       "model_id": "af5c75cefeb544048537c2707e705166",
       "version_major": 2,
       "version_minor": 0
      },
      "text/plain": [
       "interactive(children=(Text(value='1', description='a11'), Text(value='2', description='a12'), Text(value='3', …"
      ]
     },
     "metadata": {},
     "output_type": "display_data"
    }
   ],
   "source": [
    "# 整数係数で，3変数・３式の連立一次方程式をインタラクティブに解きます．\n",
    "\n",
    "@interact(a11='1', a12='2', a13='3', a21='0', a22='1', a23='4', a31='0', a32='0', a33='1')\n",
    "def f(a11, a12, a13, a21, a22, a23, a31, a32, a33):\n",
    "\n",
    "    A = Matrix([[int(a11), int(a12), int(a13)], [int(a21), int(a22), int(a23)],[int(a31), int(a32), int(a33)]])\n",
    "    \n",
    "    display(Math(r'A = %s'  % latex(A)))\n",
    "    \n",
    "    if A.det()!=0:\n",
    "        print(\"正則である．\")\n",
    "        display(Math(r'A^{-1} = %s'  % latex(A.inv())))\n",
    "    \n",
    "    else:\n",
    "        print(\"正則でない．\")"
   ]
  },
  {
   "cell_type": "code",
   "execution_count": null,
   "metadata": {},
   "outputs": [],
   "source": []
  }
 ],
 "metadata": {
  "anaconda-cloud": {},
  "kernelspec": {
   "display_name": "Python 3",
   "language": "python",
   "name": "python3"
  },
  "language_info": {
   "codemirror_mode": {
    "name": "ipython",
    "version": 3
   },
   "file_extension": ".py",
   "mimetype": "text/x-python",
   "name": "python",
   "nbconvert_exporter": "python",
   "pygments_lexer": "ipython3",
   "version": "3.7.3"
  },
  "latex_envs": {
   "bibliofile": "biblio.bib",
   "cite_by": "apalike",
   "current_citInitial": 1,
   "eqLabelWithNumbers": true,
   "eqNumInitial": 0
  }
 },
 "nbformat": 4,
 "nbformat_minor": 2
}
