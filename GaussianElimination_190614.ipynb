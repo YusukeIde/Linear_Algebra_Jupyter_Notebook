{
 "cells": [
  {
   "cell_type": "markdown",
   "metadata": {},
   "source": [
    "##  掃き出し法のための問題生成プログラム\n",
    "\n",
    "整数係数で，3変数・３式の連立一次方程式をインタラクティブに解くプログラムです．\n",
    "\n",
    "実行すると，$a11,a12,a13,a21,a22,a23,a31,a32,a33,b1,b2,b3$に値を入れるボックスがプログラム部分の直後に現れるので，それぞれの値を整数値で指定して下さい．これらのパラメータ値は，以下の行列$A$とベクトル$\\mathbb{b}$の成分を指定します．\n",
    "\n",
    "$\n",
    "A=\n",
    "\\begin{bmatrix}\n",
    "a11 & a12 & a13\\\\\n",
    "a21 & a22 & a23\\\\\n",
    "a31 & a32 & a33\\\\\n",
    "\\end{bmatrix}\n",
    ",\\quad\n",
    "\\mathbb{b}\n",
    "=\n",
    "\\begin{bmatrix}\n",
    "b1\\\\\n",
    "b2\\\\\n",
    "b3\n",
    "\\end{bmatrix}\n",
    "$\n",
    "\n",
    "パラメータを変更すると即座に行列$A$とベクトル$\\mathbb{b}$の成分が変更されます．連動して，連立一次方程式\n",
    "\n",
    "$\n",
    "\\begin{bmatrix}\n",
    "a11 & a12 & a13\\\\\n",
    "a21 & a22 & a23\\\\\n",
    "a31 & a32 & a33\\\\\n",
    "\\end{bmatrix}\n",
    "\\begin{bmatrix}\n",
    "x\\\\\n",
    "y\\\\\n",
    "z\n",
    "\\end{bmatrix}\n",
    "=\n",
    "\\begin{bmatrix}\n",
    "b1\\\\\n",
    "b2\\\\\n",
    "b3\n",
    "\\end{bmatrix}\n",
    "$\n",
    "\n",
    "の拡大係数行列$(A\\ \\mathbb{b})$が表示されます．更に，連立一次方程式の解が以下の形式で表示されます．\n",
    "\n",
    "$\\{(x,y,z)\\}$\n",
    "\n",
    "但し，解無しの場合は$\\emptyset$，解が無数に存在する場合はパラメータ表示となります．"
   ]
  },
  {
   "cell_type": "code",
   "execution_count": 1,
   "metadata": {
    "scrolled": true
   },
   "outputs": [],
   "source": [
    "from sympy import *\n",
    "init_printing()\n",
    "\n",
    "from ipywidgets import interact\n",
    "# インタラクティブ画面が出ない場合　：　「jupyter nbextension enable --py widgetsnbextension」をターミナル等で一度実行．\n",
    "# Try jupyter[https://jupyter.org/try]上では問題なく動作．"
   ]
  },
  {
   "cell_type": "code",
   "execution_count": 2,
   "metadata": {},
   "outputs": [
    {
     "data": {
      "application/vnd.jupyter.widget-view+json": {
       "model_id": "af1040b8129d432ebe677f9c2c37991b",
       "version_major": 2,
       "version_minor": 0
      },
      "text/plain": [
       "interactive(children=(Text(value='1', description='a11'), Text(value='3', description='a12'), Text(value='5', …"
      ]
     },
     "metadata": {},
     "output_type": "display_data"
    }
   ],
   "source": [
    "# 整数係数で，3変数・３式の連立一次方程式をインタラクティブに解きます．\n",
    "\n",
    "@interact(a11='1', a12='3', a13='5', a21='3', a22='7', a23='11', a31='-1', a32='4', a33='7', b1='6', b2='16', b3='-3')\n",
    "def f(a11, a12, a13, a21, a22, a23, a31, a32, a33, b1, b2, b3):\n",
    "\n",
    "    A = Matrix([[int(a11), int(a12), int(a13)], [int(a21), int(a22), int(a23)],[int(a31), int(a32), int(a33)]])\n",
    "    b = Matrix([int(b1), int(b2), int(b3)])\n",
    "    \n",
    "    \n",
    "    print(\"A=\")\n",
    "    display(A)\n",
    "    print(\"b=\")\n",
    "    display(b)\n",
    "    print(\"(A b)=\")\n",
    "    display((A,b))\n",
    "    \n",
    "    x, y, z = symbols('x y z')\n",
    "    sol = linsolve((A, b), x, y, z)\n",
    "    \n",
    "    print(\"連立一次方程式の解：\")\n",
    "    display(sol)"
   ]
  },
  {
   "cell_type": "code",
   "execution_count": null,
   "metadata": {},
   "outputs": [],
   "source": []
  }
 ],
 "metadata": {
  "anaconda-cloud": {},
  "kernelspec": {
   "display_name": "Python 3",
   "language": "python",
   "name": "python3"
  },
  "language_info": {
   "codemirror_mode": {
    "name": "ipython",
    "version": 3
   },
   "file_extension": ".py",
   "mimetype": "text/x-python",
   "name": "python",
   "nbconvert_exporter": "python",
   "pygments_lexer": "ipython3",
   "version": "3.7.3"
  },
  "latex_envs": {
   "bibliofile": "biblio.bib",
   "cite_by": "apalike",
   "current_citInitial": 1,
   "eqLabelWithNumbers": true,
   "eqNumInitial": 0
  }
 },
 "nbformat": 4,
 "nbformat_minor": 2
}
