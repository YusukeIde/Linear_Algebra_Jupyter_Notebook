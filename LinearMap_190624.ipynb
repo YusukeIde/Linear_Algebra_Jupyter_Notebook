{
 "cells": [
  {
   "cell_type": "markdown",
   "metadata": {},
   "source": [
    "##  ３次元線形変換表示のためのプログラム\n",
    "\n",
    "任意に与えた空間ベクトルが，任意に与えた3次元正方行列によって変換される様子をインタラクティブに表示するプログラムです．\n",
    "\n",
    "実行すると，$a11,a12,a13,a21,a22,a23,a31,a32,a33,x,y,z$に値を入れるボックスがプログラム部分の直後に現れるので，それぞれの値を指定して下さい．これらのパラメータ値は，以下の行列$A$とベクトル$\\mathbb{x}$の成分を指定します．\n",
    "\n",
    "\\begin{align*}\n",
    "A=\n",
    "\\begin{bmatrix}\n",
    "a11 & a12 & a13\\\\\n",
    "a21 & a22 & a23\\\\\n",
    "a31 & a32 & a33\\\\\n",
    "\\end{bmatrix}\n",
    ",\\quad\n",
    "\\mathbb{x}\n",
    "=\n",
    "\\begin{bmatrix}\n",
    "x\\\\\n",
    "y\\\\\n",
    "z\n",
    "\\end{bmatrix}\n",
    "\\end{align*}\n",
    "\n",
    "パラメータを変更すると即座に行列$A$とベクトル$\\mathbb{x}$の成分が変更されます．連動して，変換前のベクトル$\\mathbb{x}$と変換後のベクトル $A\\mathbb{x}$が描画されます．"
   ]
  },
  {
   "cell_type": "code",
   "execution_count": 1,
   "metadata": {},
   "outputs": [],
   "source": [
    "from sympy import *\n",
    "init_printing()\n",
    "\n",
    "from ipywidgets import interact\n",
    "# インタラクティブ画面が出ない場合　：　「jupyter nbextension enable --py widgetsnbextension」をターミナル等で一度実行．\n",
    "# Try jupyter[https://jupyter.org/try]上では問題なく動作．\n",
    "\n",
    "from IPython.display import Math\n",
    "\n",
    "%matplotlib inline\n",
    "from mpl_toolkits.mplot3d import Axes3D\n",
    "import matplotlib.pyplot as plt"
   ]
  },
  {
   "cell_type": "code",
   "execution_count": 2,
   "metadata": {},
   "outputs": [
    {
     "data": {
      "application/vnd.jupyter.widget-view+json": {
       "model_id": "c9ed20c7f1d14a159c148959da5e0bc4",
       "version_major": 2,
       "version_minor": 0
      },
      "text/plain": [
       "interactive(children=(Text(value='1', description='a11'), Text(value='1', description='a12'), Text(value='1', …"
      ]
     },
     "metadata": {},
     "output_type": "display_data"
    }
   ],
   "source": [
    "# ３次元ベクトルの線形変換をインタラクティブに表示します．\n",
    "\n",
    "@interact(a11='1', a12='1', a13='1', a21='-1', a22='2', a23='1', a31='1', a32='1', a33='-1', x='1', y='1', z='1')\n",
    "def f(a11, a12, a13, a21, a22, a23, a31, a32, a33, x, y, z):\n",
    "    \n",
    "    A = Matrix([[float(a11), float(a12), float(a13)], [float(a21), float(a22), float(a23)],[float(a31), float(a32), float(a33)]])\n",
    "    vec = Matrix([float(x), float(y), float(z)])\n",
    "    \n",
    "    # 3次正方行列と3次元ベクトルの表示\n",
    "    display(Math(r'A = %s, \\quad \\mathbb{x} = %s, \\quad A\\mathbb{x} = %s' % (latex(A),latex(vec),latex(A*vec))))\n",
    "    \n",
    "    fig = plt.figure()\n",
    "    ax = Axes3D(fig)\n",
    "\n",
    "    # ベクトルの描画\n",
    "    ax.quiver(0, 0, 0, vec[0], vec[1], vec[2], color='blue')\n",
    "    ax.quiver(0, 0, 0, (A*vec)[0], (A*vec)[1], (A*vec)[2], color='red')\n",
    "    \n",
    "    # ベクトルラベルの設定\n",
    "    ax.text( vec[0], vec[1], vec[2],'x',fontsize=17, color='blue')\n",
    "    ax.text((A*vec)[0], (A*vec)[1], (A*vec)[2],'Ax',fontsize=17, color='red')\n",
    "    \n",
    "    # 描画領域指定\n",
    "    maxx = float(max([0, vec[0], (A*vec)[0]]))\n",
    "    maxy = float(max([0, vec[1], (A*vec)[1]]))\n",
    "    maxz = float(max([0, vec[2], (A*vec)[2]]))\n",
    "    minx = float(min([0, vec[0], (A*vec)[0]]))\n",
    "    miny = float(min([0,vec[1], (A*vec)[1]]))\n",
    "    minz = float(min([0, vec[2], (A*vec)[2]]))\n",
    "    \n",
    "    ax.set_xlim([minx-0.1, maxx+0.1])\n",
    "    ax.set_ylim([miny-0.1, maxy+0.1])\n",
    "    ax.set_zlim([minz-0.1, maxz+0.1])\n",
    "    \n",
    "    # 軸ラベルの設定\n",
    "    ax.set_xlabel(\"x\", size = 14, weight = \"light\")\n",
    "    ax.set_ylabel(\"y\", size = 14, weight = \"light\")\n",
    "    ax.set_zlabel(\"z\", size = 14, weight = \"light\")\n",
    "        \n",
    "    plt.show()"
   ]
  },
  {
   "cell_type": "code",
   "execution_count": null,
   "metadata": {},
   "outputs": [],
   "source": []
  }
 ],
 "metadata": {
  "kernelspec": {
   "display_name": "Python 3",
   "language": "python",
   "name": "python3"
  },
  "language_info": {
   "codemirror_mode": {
    "name": "ipython",
    "version": 3
   },
   "file_extension": ".py",
   "mimetype": "text/x-python",
   "name": "python",
   "nbconvert_exporter": "python",
   "pygments_lexer": "ipython3",
   "version": "3.7.3"
  }
 },
 "nbformat": 4,
 "nbformat_minor": 2
}
