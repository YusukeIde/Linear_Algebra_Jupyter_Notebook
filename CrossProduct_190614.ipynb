{
 "cells": [
  {
   "cell_type": "markdown",
   "metadata": {},
   "source": [
    "##  外積（ベクトル積）計算のためのプログラム\n",
    "\n",
    "任意に与えた２つの空間ベクトル（整数成分）の外積をインタラクティブに表示するプログラムです．\n",
    "\n",
    "実行すると，$a1,a2,a3,b1,b2,b3$に値を入れるボックスがプログラム部分の直後に現れるので，それぞれの値を整数値で指定して下さい．これらのパラメータ値は，以下のベクトル$\\mathbb{a}, \\mathbb{b}$の成分を指定します．\n",
    "\n",
    "$\n",
    "\\mathbb{a}\n",
    "=\n",
    "\\begin{bmatrix}\n",
    "a1\\\\\n",
    "a2\\\\\n",
    "a3\\\\\n",
    "\\end{bmatrix}\n",
    ",\\quad\n",
    "\\mathbb{b}\n",
    "=\n",
    "\\begin{bmatrix}\n",
    "b1\\\\\n",
    "b2\\\\\n",
    "b3\n",
    "\\end{bmatrix}\n",
    "$\n",
    "\n",
    "パラメータを変更すると即座にベクトル$\\mathbb{a}, \\mathbb{b}$の成分が変更されます．連動して，２つのベクトルの外積$\\mathbb{a}\\times \\mathbb{b}$が表示され，$\\mathbb{a}, \\mathbb{b}, \\mathbb{a}\\times \\mathbb{b}$の３つのベクトルが描画されます．"
   ]
  },
  {
   "cell_type": "code",
   "execution_count": 1,
   "metadata": {},
   "outputs": [],
   "source": [
    "from sympy import *\n",
    "init_printing()\n",
    "\n",
    "from ipywidgets import interact\n",
    "# インタラクティブ画面が出ない場合　：　「jupyter nbextension enable --py widgetsnbextension」をターミナル等で一度実行．\n",
    "# Try jupyter[https://jupyter.org/try]上では問題なく動作．\n",
    "\n",
    "from IPython.display import Math\n",
    "\n",
    "%matplotlib inline\n",
    "from mpl_toolkits.mplot3d import Axes3D\n",
    "import matplotlib.pyplot as plt"
   ]
  },
  {
   "cell_type": "code",
   "execution_count": 2,
   "metadata": {},
   "outputs": [
    {
     "data": {
      "application/vnd.jupyter.widget-view+json": {
       "model_id": "62359d1e2c1048db8ed8671e4d43b28a",
       "version_major": 2,
       "version_minor": 0
      },
      "text/plain": [
       "interactive(children=(Text(value='1', description='a1'), Text(value='0', description='a2'), Text(value='0', de…"
      ]
     },
     "metadata": {},
     "output_type": "display_data"
    }
   ],
   "source": [
    "# 任意に与えた２つの空間ベクトル（整数成分）の外積をインタラクティブに表示します．\n",
    "\n",
    "@interact(a1='1', a2='0', a3='0',  b1='0', b2='1', b3='0')\n",
    "def f(a1, a2, a3, b1, b2, b3):\n",
    "    a, b, ab = symbols('a b ab ')\n",
    "\n",
    "    # ベクトルの定義\n",
    "    a = Matrix([int(a1), int(a2), int(a3)])\n",
    "    b = Matrix([int(b1), int(b2), int(b3)])\n",
    "    \n",
    "    # 外積の計算\n",
    "    ab = a.cross(b)\n",
    "    \n",
    "    # ベクトルの表示\n",
    "    display(Math(r'\\mathbb{a} = %s, \\quad \\mathbb{b} = %s, \\quad \\mathbb{a}\\times \\mathbb{b} = %s' \\\n",
    "                 % (latex(a),latex(b),latex(ab))))\n",
    "    \n",
    "    fig = plt.figure()\n",
    "    ax = Axes3D(fig)\n",
    "    \n",
    "    # ベクトルの描画\n",
    "    ax.quiver(0, 0, 0, int(a1), int(a2), int(a3), color='green', label=\"a\")\n",
    "    ax.quiver(0, 0, 0, int(b1), int(b2), int(b3), color='blue', label=\"b\")\n",
    "    ax.quiver(0, 0, 0, ab[0], ab[1], ab[2], color='red', label=\"a x b\")\n",
    "    \n",
    "    # ベクトルラベルの設定\n",
    "    ax.text(int(a1), int(a2), int(a3),'a',fontsize=17, color='green')\n",
    "    ax.text(int(b1), int(b2), int(b3),'b',fontsize=17, color='blue')\n",
    "    ax.text(ab[0], ab[1], ab[2],'a x b',fontsize=17, color='red')\n",
    "    \n",
    "    # 描画領域指定\n",
    "    maxx = float(max([0, int(a1), int(b1), ab[0]]))\n",
    "    maxy = float(max([0, int(a2), int(b2), ab[1]]))\n",
    "    maxz = float(max([0, int(a3), int(b3), ab[2]]))\n",
    "    minx = float(min([0, int(a1), int(b1), ab[0]]))\n",
    "    miny = float(min([0, int(a2), int(b2), ab[1]]))\n",
    "    minz = float(min([0, int(a3), int(b3), ab[2]]))\n",
    "    \n",
    "    ax.set_xlim([minx-0.1, maxx+0.1])\n",
    "    ax.set_ylim([miny-0.1, maxy+0.1])\n",
    "    ax.set_zlim([minz-0.1, maxz+0.1])\n",
    "    \n",
    "    plt.show()\n",
    "    \n",
    "    # ノルムの表示\n",
    "    display(Math(r'|\\mathbb{a}| = %s, \\quad |\\mathbb{b}| = %s, \\quad |\\mathbb{a}\\times\\mathbb{b}| = %s' \\\n",
    "                 % (latex(a.norm()), latex(b.norm()), latex(ab.norm()))))"
   ]
  },
  {
   "cell_type": "code",
   "execution_count": null,
   "metadata": {},
   "outputs": [],
   "source": []
  }
 ],
 "metadata": {
  "kernelspec": {
   "display_name": "Python 3",
   "language": "python",
   "name": "python3"
  },
  "language_info": {
   "codemirror_mode": {
    "name": "ipython",
    "version": 3
   },
   "file_extension": ".py",
   "mimetype": "text/x-python",
   "name": "python",
   "nbconvert_exporter": "python",
   "pygments_lexer": "ipython3",
   "version": "3.7.3"
  }
 },
 "nbformat": 4,
 "nbformat_minor": 2
}
