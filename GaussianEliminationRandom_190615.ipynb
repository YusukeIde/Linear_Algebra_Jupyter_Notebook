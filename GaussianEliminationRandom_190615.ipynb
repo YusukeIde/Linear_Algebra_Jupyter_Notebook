{
 "cells": [
  {
   "cell_type": "markdown",
   "metadata": {},
   "source": [
    "##  掃き出し法のための問題生成プログラム\n",
    "\n",
    "整数係数で，3変数・３式の連立一次方程式をインタラクティブに解くプログラムです．\n",
    "\n",
    "実行すると，「cmax」に値を入れるボックスがプログラム部分の直後に現れるので，正の整数値で指定して下さい．cmaxの値に従って，以下の行列$A$とベクトル$\\mathbb{b}$の成分を-cmax$\\sim$cmaxの一様乱数(整数値)で指定します．\n",
    "\n",
    "$\n",
    "A=\n",
    "\\begin{bmatrix}\n",
    "a11 & a12 & a13\\\\\n",
    "a21 & a22 & a23\\\\\n",
    "a31 & a32 & a33\\\\\n",
    "\\end{bmatrix}\n",
    ",\\quad\n",
    "\\mathbb{b}\n",
    "=\n",
    "\\begin{bmatrix}\n",
    "b1\\\\\n",
    "b2\\\\\n",
    "b3\n",
    "\\end{bmatrix}\n",
    "$\n",
    "\n",
    "また，typeは「1」，「0」，「infty」の３種類から選択可能です．それぞれ，連立一次方程式の解の個数を表します．「1」を選択した際には，解が整数値となるようにパラメータ選択されます．\n",
    "\n",
    "パラメータを変更すると即座に行列$A$とベクトル$\\mathbb{b}$の成分が変更されます．連動して，連立一次方程式\n",
    "\n",
    "$\n",
    "\\begin{bmatrix}\n",
    "a11 & a12 & a13\\\\\n",
    "a21 & a22 & a23\\\\\n",
    "a31 & a32 & a33\\\\\n",
    "\\end{bmatrix}\n",
    "\\begin{bmatrix}\n",
    "x\\\\\n",
    "y\\\\\n",
    "z\n",
    "\\end{bmatrix}\n",
    "=\n",
    "\\begin{bmatrix}\n",
    "b1\\\\\n",
    "b2\\\\\n",
    "b3\n",
    "\\end{bmatrix}\n",
    "$\n",
    "\n",
    "の拡大係数行列$(A\\ \\mathbb{b})$が表示されます．更に，連立一次方程式の解が以下の形式で表示されます．\n",
    "\n",
    "$\\{(x,y,z)\\}$\n",
    "\n",
    "但し，解無しの場合は$\\emptyset$，解が無数に存在する場合はパラメータ表示となります．"
   ]
  },
  {
   "cell_type": "code",
   "execution_count": 1,
   "metadata": {
    "scrolled": true
   },
   "outputs": [],
   "source": [
    "from sympy import *\n",
    "init_printing()\n",
    "\n",
    "from ipywidgets import interact\n",
    "# インタラクティブ画面が出ない場合　：　「jupyter nbextension enable --py widgetsnbextension」をターミナル等で一度実行．\n",
    "# Try jupyter[https://jupyter.org/try]上では問題なく動作．\n",
    "\n",
    "from IPython.display import Math\n",
    "\n",
    "# 乱数を使用する．実行するたびに違う乱数系列とするために実行時のシステム時刻をseedに設定．\n",
    "import random\n",
    "from datetime import datetime\n",
    "random.seed(datetime.now())"
   ]
  },
  {
   "cell_type": "code",
   "execution_count": 2,
   "metadata": {},
   "outputs": [
    {
     "data": {
      "application/vnd.jupyter.widget-view+json": {
       "model_id": "1e6b4b41c171498caacb9ba5aa3b10ab",
       "version_major": 2,
       "version_minor": 0
      },
      "text/plain": [
       "interactive(children=(Text(value='4', description='cmax'), Dropdown(description='type', options=('1', '0', 'in…"
      ]
     },
     "metadata": {},
     "output_type": "display_data"
    }
   ],
   "source": [
    "# 整数係数で，3変数・３式の連立一次方程式をインタラクティブに解きます．\n",
    "\n",
    "@interact(cmax='4', type=['1','0','infty'])\n",
    "def f(cmax, type):\n",
    "    \n",
    "    # 入力値cmaxを整数型に変換\n",
    "    cmax = int(cmax)\n",
    "    \n",
    "    while 1:\n",
    "        \n",
    "        # 行列Aの各要素に乱数を設定\n",
    "        A = Matrix([[random.randint(-cmax, cmax), random.randint(-cmax, cmax), random.randint(-cmax, cmax)], \\\n",
    "                [random.randint(-cmax, cmax), random.randint(-cmax, cmax), random.randint(-cmax, cmax)], \\\n",
    "                [random.randint(-cmax, cmax), random.randint(-cmax, cmax), random.randint(-cmax, cmax)]])\n",
    "        \n",
    "        if A.det()==0:\n",
    "            if type=='1':\n",
    "                continue\n",
    "                \n",
    "        # ベクトルbの各要素に乱数を設定\n",
    "        b = Matrix([random.randint(-cmax, cmax), random.randint(-cmax, cmax), random.randint(-cmax, cmax)])\n",
    "        \n",
    "        # 拡大係数行列\n",
    "        Ab = A.row_join(b)\n",
    "        \n",
    "        if type=='1':\n",
    "            x = A.inv()*b\n",
    "        \n",
    "            if (x[0].is_Integer==1) and (x[1].is_Integer==1) and (x[2].is_Integer==1):\n",
    "                break\n",
    "                \n",
    "        if (type=='0') and (A.rank()!=Ab.rank()):\n",
    "            break\n",
    "            \n",
    "        if (type=='infty') and (A.rank()==Ab.rank()) and (A.rank()!=3):\n",
    "            break\n",
    "    \n",
    "    display(Math(r'A = %s, \\quad \\mathbb{b} = %s, \\quad \\left(A\\ \\mathbb{b}\\right) = %s'  % (latex(A),latex(b),latex(Ab))))\n",
    "    \n",
    "    x, y, z = symbols('x y z')\n",
    "    sol = linsolve((A, b), x, y, z)\n",
    "    \n",
    "    print(\"連立一次方程式の解：\")\n",
    "    display(sol)"
   ]
  },
  {
   "cell_type": "code",
   "execution_count": null,
   "metadata": {},
   "outputs": [],
   "source": []
  }
 ],
 "metadata": {
  "anaconda-cloud": {},
  "kernelspec": {
   "display_name": "Python 3",
   "language": "python",
   "name": "python3"
  },
  "language_info": {
   "codemirror_mode": {
    "name": "ipython",
    "version": 3
   },
   "file_extension": ".py",
   "mimetype": "text/x-python",
   "name": "python",
   "nbconvert_exporter": "python",
   "pygments_lexer": "ipython3",
   "version": "3.7.3"
  },
  "latex_envs": {
   "bibliofile": "biblio.bib",
   "cite_by": "apalike",
   "current_citInitial": 1,
   "eqLabelWithNumbers": true,
   "eqNumInitial": 0
  }
 },
 "nbformat": 4,
 "nbformat_minor": 2
}
